{
 "cells": [
  {
   "cell_type": "code",
   "execution_count": null,
   "metadata": {},
   "outputs": [],
   "source": []
  },
  {
   "cell_type": "markdown",
   "metadata": {},
   "source": [
    "## Change Wifi "
   ]
  },
  {
   "cell_type": "code",
   "execution_count": 2,
   "metadata": {
    "ExecuteTime": {
     "end_time": "2021-06-21T09:31:31.108434Z",
     "start_time": "2021-06-21T09:31:29.903114Z"
    }
   },
   "outputs": [
    {
     "name": "stdout",
     "output_type": "stream",
     "text": [
      "Enter Name/SSID of the Wifi Network you wish to connect to: HomeWifi\n",
      "If you're not yet connected, try connecting to a previously connected SSID again!\n"
     ]
    }
   ],
   "source": [
    "# https://www.geeksforgeeks.org/how-to-connect-wifi-using-python/\n",
    "\n",
    "# import module\n",
    "import os\n",
    "\n",
    "# scan avaliable Wifi networks\n",
    "os.system('cmd /c \"netsh wlan show networks\"')\n",
    "\n",
    "# input Wifi name\n",
    "name_of_router = input('Enter Name/SSID of the Wifi Network you wish to connect to: ')\n",
    "\n",
    "# connect to the given wifi network\n",
    "os.system(f'''cmd /c \"netsh wlan connect name={name_of_router}\"''')\n",
    "\n",
    "print(\"If you're not yet connected, try connecting to a previously connected SSID again!\")\n",
    "\n",
    "    "
   ]
  },
  {
   "cell_type": "code",
   "execution_count": 4,
   "metadata": {
    "ExecuteTime": {
     "end_time": "2021-06-21T09:33:51.718462Z",
     "start_time": "2021-06-21T09:33:47.793632Z"
    }
   },
   "outputs": [
    {
     "ename": "KeyboardInterrupt",
     "evalue": "Interrupted by user",
     "output_type": "error",
     "traceback": [
      "\u001b[0;31m-------------------------------------------------------------\u001b[0m",
      "\u001b[0;31mKeyboardInterrupt\u001b[0m           Traceback (most recent call last)",
      "\u001b[0;32m<ipython-input-4-b06087084fe0>\u001b[0m in \u001b[0;36m<module>\u001b[0;34m\u001b[0m\n\u001b[1;32m     49\u001b[0m \u001b[0;34m\u001b[0m\u001b[0m\n\u001b[1;32m     50\u001b[0m \u001b[0;31m# input wifi name and password\u001b[0m\u001b[0;34m\u001b[0m\u001b[0;34m\u001b[0m\u001b[0;34m\u001b[0m\u001b[0m\n\u001b[0;32m---> 51\u001b[0;31m \u001b[0mname\u001b[0m \u001b[0;34m=\u001b[0m \u001b[0minput\u001b[0m\u001b[0;34m(\u001b[0m\u001b[0;34m\"Name of Wi-Fi: \"\u001b[0m\u001b[0;34m)\u001b[0m\u001b[0;34m\u001b[0m\u001b[0;34m\u001b[0m\u001b[0m\n\u001b[0m\u001b[1;32m     52\u001b[0m \u001b[0mpassword\u001b[0m \u001b[0;34m=\u001b[0m \u001b[0minput\u001b[0m\u001b[0;34m(\u001b[0m\u001b[0;34m\"Password: \"\u001b[0m\u001b[0;34m)\u001b[0m\u001b[0;34m\u001b[0m\u001b[0;34m\u001b[0m\u001b[0m\n\u001b[1;32m     53\u001b[0m \u001b[0;34m\u001b[0m\u001b[0m\n",
      "\u001b[0;32m~/Documents/VirtualEnvironments/MyOfficeVirtEnv/lib/python3.7/site-packages/ipykernel/kernelbase.py\u001b[0m in \u001b[0;36mraw_input\u001b[0;34m(self, prompt)\u001b[0m\n\u001b[1;32m    861\u001b[0m             \u001b[0mself\u001b[0m\u001b[0;34m.\u001b[0m\u001b[0m_parent_ident\u001b[0m\u001b[0;34m,\u001b[0m\u001b[0;34m\u001b[0m\u001b[0;34m\u001b[0m\u001b[0m\n\u001b[1;32m    862\u001b[0m             \u001b[0mself\u001b[0m\u001b[0;34m.\u001b[0m\u001b[0m_parent_header\u001b[0m\u001b[0;34m,\u001b[0m\u001b[0;34m\u001b[0m\u001b[0;34m\u001b[0m\u001b[0m\n\u001b[0;32m--> 863\u001b[0;31m             \u001b[0mpassword\u001b[0m\u001b[0;34m=\u001b[0m\u001b[0;32mFalse\u001b[0m\u001b[0;34m,\u001b[0m\u001b[0;34m\u001b[0m\u001b[0;34m\u001b[0m\u001b[0m\n\u001b[0m\u001b[1;32m    864\u001b[0m         )\n\u001b[1;32m    865\u001b[0m \u001b[0;34m\u001b[0m\u001b[0m\n",
      "\u001b[0;32m~/Documents/VirtualEnvironments/MyOfficeVirtEnv/lib/python3.7/site-packages/ipykernel/kernelbase.py\u001b[0m in \u001b[0;36m_input_request\u001b[0;34m(self, prompt, ident, parent, password)\u001b[0m\n\u001b[1;32m    902\u001b[0m             \u001b[0;32mexcept\u001b[0m \u001b[0mKeyboardInterrupt\u001b[0m\u001b[0;34m:\u001b[0m\u001b[0;34m\u001b[0m\u001b[0;34m\u001b[0m\u001b[0m\n\u001b[1;32m    903\u001b[0m                 \u001b[0;31m# re-raise KeyboardInterrupt, to truncate traceback\u001b[0m\u001b[0;34m\u001b[0m\u001b[0;34m\u001b[0m\u001b[0;34m\u001b[0m\u001b[0m\n\u001b[0;32m--> 904\u001b[0;31m                 \u001b[0;32mraise\u001b[0m \u001b[0mKeyboardInterrupt\u001b[0m\u001b[0;34m(\u001b[0m\u001b[0;34m\"Interrupted by user\"\u001b[0m\u001b[0;34m)\u001b[0m \u001b[0;32mfrom\u001b[0m \u001b[0;32mNone\u001b[0m\u001b[0;34m\u001b[0m\u001b[0;34m\u001b[0m\u001b[0m\n\u001b[0m\u001b[1;32m    905\u001b[0m             \u001b[0;32mexcept\u001b[0m \u001b[0mException\u001b[0m \u001b[0;32mas\u001b[0m \u001b[0me\u001b[0m\u001b[0;34m:\u001b[0m\u001b[0;34m\u001b[0m\u001b[0;34m\u001b[0m\u001b[0m\n\u001b[1;32m    906\u001b[0m                 \u001b[0mself\u001b[0m\u001b[0;34m.\u001b[0m\u001b[0mlog\u001b[0m\u001b[0;34m.\u001b[0m\u001b[0mwarning\u001b[0m\u001b[0;34m(\u001b[0m\u001b[0;34m\"Invalid Message:\"\u001b[0m\u001b[0;34m,\u001b[0m \u001b[0mexc_info\u001b[0m\u001b[0;34m=\u001b[0m\u001b[0;32mTrue\u001b[0m\u001b[0;34m)\u001b[0m\u001b[0;34m\u001b[0m\u001b[0;34m\u001b[0m\u001b[0m\n",
      "\u001b[0;31mKeyboardInterrupt\u001b[0m: Interrupted by user"
     ]
    }
   ],
   "source": [
    "# import module\n",
    "import os\n",
    "\n",
    "# function to establish a new connection\n",
    "def createNewConnection(name, SSID, password):\n",
    "    config = \"\"\"<?xml version=\\\"1.0\\\"?>\n",
    "<WLANProfile xmlns=\"http://www.microsoft.com/networking/WLAN/profile/v1\">\n",
    "    <name>\"\"\"+name+\"\"\"</name>\n",
    "    <SSIDConfig>\n",
    "        <SSID>\n",
    "            <name>\"\"\"+SSID+\"\"\"</name>\n",
    "        </SSID>\n",
    "    </SSIDConfig>\n",
    "    <connectionType>ESS</connectionType>\n",
    "    <connectionMode>auto</connectionMode>\n",
    "    <MSM>\n",
    "        <security>\n",
    "            <authEncryption>\n",
    "                <authentication>WPA2PSK</authentication>\n",
    "                <encryption>AES</encryption>\n",
    "                <useOneX>false</useOneX>\n",
    "            </authEncryption>\n",
    "            <sharedKey>\n",
    "                <keyType>passPhrase</keyType>\n",
    "                <protected>false</protected>\n",
    "                <keyMaterial>\"\"\"+password+\"\"\"</keyMaterial>\n",
    "            </sharedKey>\n",
    "        </security>\n",
    "    </MSM>\n",
    "</WLANProfile>\"\"\"\n",
    "    command = \"netsh wlan add profile filename=\\\"\"+name+\".xml\\\"\"+\" interface=Wi-Fi\"\n",
    "    with open(name+\".xml\", 'w') as file:\n",
    "        file.write(config)\n",
    "    os.system(command)\n",
    "\n",
    "# function to connect to a network\t\n",
    "def connect(name, SSID):\n",
    "    command = \"netsh wlan connect name=\\\"\"+name+\"\\\" ssid=\\\"\"+SSID+\"\\\" interface=Wi-Fi\"\n",
    "    os.system(command)\n",
    "\n",
    "# function to display avavilabe Wifi networks\t\n",
    "def displayAvailableNetworks():\n",
    "    command = \"netsh wlan show networks interface=Wi-Fi\"\n",
    "    os.system(command)\n",
    "\n",
    "\n",
    "# display available netwroks\n",
    "displayAvailableNetworks()\n",
    "\n",
    "# input wifi name and password\n",
    "name = input(\"Name of Wi-Fi: \")\n",
    "password = input(\"Password: \")\n",
    "\n",
    "# establish new connection\n",
    "createNewConnection(name, name, password)\n",
    "\n",
    "# connect to the wifi network\n",
    "connect(name, name)\n",
    "print(\"If you aren't connected to this network, try connecting with the correct password!\")\n"
   ]
  },
  {
   "cell_type": "code",
   "execution_count": null,
   "metadata": {},
   "outputs": [],
   "source": []
  },
  {
   "cell_type": "code",
   "execution_count": null,
   "metadata": {},
   "outputs": [],
   "source": []
  },
  {
   "cell_type": "code",
   "execution_count": null,
   "metadata": {},
   "outputs": [],
   "source": [
    "RR-Sumit_2G\n",
    "HomeWifi"
   ]
  },
  {
   "cell_type": "markdown",
   "metadata": {},
   "source": [
    "## Get Wifi Speed"
   ]
  },
  {
   "cell_type": "code",
   "execution_count": 2,
   "metadata": {
    "ExecuteTime": {
     "end_time": "2021-06-20T19:06:39.582783Z",
     "start_time": "2021-06-20T19:06:36.088610Z"
    }
   },
   "outputs": [
    {
     "data": {
      "text/plain": [
       "{'ping': '197.6 B', 'download': '57.5 KiB', 'upload': '202.5 B'}"
      ]
     },
     "execution_count": 2,
     "metadata": {},
     "output_type": "execute_result"
    }
   ],
   "source": [
    "import pyspeedtest\n",
    "import amleet as aml\n",
    "\n",
    "st = pyspeedtest.SpeedTest('www.google.com')\n",
    "\n",
    "di = {\n",
    "    'ping': st.ping(),\n",
    "    'download': st.download(),\n",
    "    'upload': st.ping()\n",
    "}\n",
    "{ k:aml.convert_bytes_to_human_readable(item) for k,item in di.items() }\n",
    "\n",
    "\n",
    "## --> Nott Maintained hence the issue"
   ]
  },
  {
   "cell_type": "code",
   "execution_count": null,
   "metadata": {
    "ExecuteTime": {
     "end_time": "2021-06-20T17:41:36.647808Z",
     "start_time": "2021-06-20T17:41:35.558780Z"
    }
   },
   "outputs": [],
   "source": []
  },
  {
   "cell_type": "code",
   "execution_count": null,
   "metadata": {},
   "outputs": [],
   "source": []
  },
  {
   "cell_type": "code",
   "execution_count": null,
   "metadata": {},
   "outputs": [],
   "source": []
  },
  {
   "cell_type": "code",
   "execution_count": 3,
   "metadata": {
    "ExecuteTime": {
     "end_time": "2021-06-20T19:13:45.440414Z",
     "start_time": "2021-06-20T19:13:44.124203Z"
    }
   },
   "outputs": [
    {
     "ename": "ConfigRetrievalError",
     "evalue": "<urlopen error [SSL: CERTIFICATE_VERIFY_FAILED] certificate verify failed: self signed certificate in certificate chain (_ssl.c:1076)>",
     "output_type": "error",
     "traceback": [
      "\u001b[0;31m---------------------------------------------------------------------------\u001b[0m",
      "\u001b[0;31mConfigRetrievalError\u001b[0m                      Traceback (most recent call last)",
      "\u001b[0;32m<ipython-input-3-498bb319ce2f>\u001b[0m in \u001b[0;36m<module>\u001b[0;34m\u001b[0m\n\u001b[1;32m      4\u001b[0m \u001b[0;34m\u001b[0m\u001b[0m\n\u001b[1;32m      5\u001b[0m \u001b[0;34m\u001b[0m\u001b[0m\n\u001b[0;32m----> 6\u001b[0;31m \u001b[0mst\u001b[0m \u001b[0;34m=\u001b[0m \u001b[0mspeedtest\u001b[0m\u001b[0;34m.\u001b[0m\u001b[0mSpeedtest\u001b[0m\u001b[0;34m(\u001b[0m\u001b[0;34m)\u001b[0m\u001b[0;34m\u001b[0m\u001b[0;34m\u001b[0m\u001b[0m\n\u001b[0m\u001b[1;32m      7\u001b[0m \u001b[0;34m\u001b[0m\u001b[0m\n\u001b[1;32m      8\u001b[0m option = int(input('''What speed do you want to test:\n",
      "\u001b[0;32m~/Documents/VirtualEnvironments/MyOfficeVirtEnv/lib/python3.7/site-packages/speedtest.py\u001b[0m in \u001b[0;36m__init__\u001b[0;34m(self, config, source_address, timeout, secure, shutdown_event)\u001b[0m\n\u001b[1;32m   1093\u001b[0m             \u001b[0mself\u001b[0m\u001b[0;34m.\u001b[0m\u001b[0m_shutdown_event\u001b[0m \u001b[0;34m=\u001b[0m \u001b[0mFakeShutdownEvent\u001b[0m\u001b[0;34m(\u001b[0m\u001b[0;34m)\u001b[0m\u001b[0;34m\u001b[0m\u001b[0;34m\u001b[0m\u001b[0m\n\u001b[1;32m   1094\u001b[0m \u001b[0;34m\u001b[0m\u001b[0m\n\u001b[0;32m-> 1095\u001b[0;31m         \u001b[0mself\u001b[0m\u001b[0;34m.\u001b[0m\u001b[0mget_config\u001b[0m\u001b[0;34m(\u001b[0m\u001b[0;34m)\u001b[0m\u001b[0;34m\u001b[0m\u001b[0;34m\u001b[0m\u001b[0m\n\u001b[0m\u001b[1;32m   1096\u001b[0m         \u001b[0;32mif\u001b[0m \u001b[0mconfig\u001b[0m \u001b[0;32mis\u001b[0m \u001b[0;32mnot\u001b[0m \u001b[0;32mNone\u001b[0m\u001b[0;34m:\u001b[0m\u001b[0;34m\u001b[0m\u001b[0;34m\u001b[0m\u001b[0m\n\u001b[1;32m   1097\u001b[0m             \u001b[0mself\u001b[0m\u001b[0;34m.\u001b[0m\u001b[0mconfig\u001b[0m\u001b[0;34m.\u001b[0m\u001b[0mupdate\u001b[0m\u001b[0;34m(\u001b[0m\u001b[0mconfig\u001b[0m\u001b[0;34m)\u001b[0m\u001b[0;34m\u001b[0m\u001b[0;34m\u001b[0m\u001b[0m\n",
      "\u001b[0;32m~/Documents/VirtualEnvironments/MyOfficeVirtEnv/lib/python3.7/site-packages/speedtest.py\u001b[0m in \u001b[0;36mget_config\u001b[0;34m(self)\u001b[0m\n\u001b[1;32m   1125\u001b[0m         \u001b[0muh\u001b[0m\u001b[0;34m,\u001b[0m \u001b[0me\u001b[0m \u001b[0;34m=\u001b[0m \u001b[0mcatch_request\u001b[0m\u001b[0;34m(\u001b[0m\u001b[0mrequest\u001b[0m\u001b[0;34m,\u001b[0m \u001b[0mopener\u001b[0m\u001b[0;34m=\u001b[0m\u001b[0mself\u001b[0m\u001b[0;34m.\u001b[0m\u001b[0m_opener\u001b[0m\u001b[0;34m)\u001b[0m\u001b[0;34m\u001b[0m\u001b[0;34m\u001b[0m\u001b[0m\n\u001b[1;32m   1126\u001b[0m         \u001b[0;32mif\u001b[0m \u001b[0me\u001b[0m\u001b[0;34m:\u001b[0m\u001b[0;34m\u001b[0m\u001b[0;34m\u001b[0m\u001b[0m\n\u001b[0;32m-> 1127\u001b[0;31m             \u001b[0;32mraise\u001b[0m \u001b[0mConfigRetrievalError\u001b[0m\u001b[0;34m(\u001b[0m\u001b[0me\u001b[0m\u001b[0;34m)\u001b[0m\u001b[0;34m\u001b[0m\u001b[0;34m\u001b[0m\u001b[0m\n\u001b[0m\u001b[1;32m   1128\u001b[0m         \u001b[0mconfigxml_list\u001b[0m \u001b[0;34m=\u001b[0m \u001b[0;34m[\u001b[0m\u001b[0;34m]\u001b[0m\u001b[0;34m\u001b[0m\u001b[0;34m\u001b[0m\u001b[0m\n\u001b[1;32m   1129\u001b[0m \u001b[0;34m\u001b[0m\u001b[0m\n",
      "\u001b[0;31mConfigRetrievalError\u001b[0m: <urlopen error [SSL: CERTIFICATE_VERIFY_FAILED] certificate verify failed: self signed certificate in certificate chain (_ssl.c:1076)>"
     ]
    }
   ],
   "source": [
    "# Python program to test internet speed\n",
    "\n",
    "import speedtest\n",
    "\n",
    "\n",
    "st = speedtest.Speedtest()\n",
    "\n",
    "option = int(input('''What speed do you want to test:\n",
    "\n",
    "1) Download Speed\n",
    "\n",
    "2) Upload Speed\n",
    "\n",
    "3) Ping\n",
    "\n",
    "Your Choice: '''))\n",
    "\n",
    "\n",
    "if option == 1:\n",
    "    print(st.download())\n",
    "elif option == 2:\n",
    "    print(st.upload())\n",
    "elif option == 3:\n",
    "    servernames =[]\n",
    "    st.get_servers(servernames)\n",
    "    print(st.results.ping)\n",
    "else:\n",
    "    print(\"Please enter the correct choice !\")\n",
    "\n"
   ]
  },
  {
   "cell_type": "code",
   "execution_count": null,
   "metadata": {
    "ExecuteTime": {
     "end_time": "2021-06-20T17:23:48.168995Z",
     "start_time": "2021-06-20T17:23:47.412739Z"
    }
   },
   "outputs": [],
   "source": [
    "import speedtest\n",
    "\n",
    "servers = []\n",
    "# If you want to test against a specific server\n",
    "# servers = [1234]\n",
    "\n",
    "threads = None\n",
    "# If you want to use a single threaded test\n",
    "# threads = 1\n",
    "\n",
    "s = speedtest.Speedtest()\n",
    "s.get_servers(servers)\n",
    "s.get_best_server()\n",
    "s.download(threads=threads)\n",
    "s.upload(threads=threads)\n",
    "s.results.share()\n",
    "\n",
    "results_dict = s.results.dict()"
   ]
  },
  {
   "cell_type": "markdown",
   "metadata": {},
   "source": [
    "## Collect and store Information"
   ]
  },
  {
   "cell_type": "code",
   "execution_count": null,
   "metadata": {},
   "outputs": [],
   "source": []
  },
  {
   "cell_type": "code",
   "execution_count": null,
   "metadata": {},
   "outputs": [],
   "source": []
  },
  {
   "cell_type": "markdown",
   "metadata": {},
   "source": [
    "## recommended wifi endpoint "
   ]
  },
  {
   "cell_type": "code",
   "execution_count": null,
   "metadata": {},
   "outputs": [],
   "source": []
  },
  {
   "cell_type": "markdown",
   "metadata": {},
   "source": [
    "## internet hosting??"
   ]
  },
  {
   "cell_type": "code",
   "execution_count": null,
   "metadata": {},
   "outputs": [],
   "source": []
  }
 ],
 "metadata": {
  "kernelspec": {
   "display_name": "MyOfficeEnv",
   "language": "python",
   "name": "myofficeenv"
  },
  "language_info": {
   "codemirror_mode": {
    "name": "ipython",
    "version": 3
   },
   "file_extension": ".py",
   "mimetype": "text/x-python",
   "name": "python",
   "nbconvert_exporter": "python",
   "pygments_lexer": "ipython3",
   "version": "3.7.4"
  },
  "toc": {
   "base_numbering": 1,
   "nav_menu": {},
   "number_sections": true,
   "sideBar": true,
   "skip_h1_title": false,
   "title_cell": "Table of Contents",
   "title_sidebar": "Contents",
   "toc_cell": false,
   "toc_position": {},
   "toc_section_display": true,
   "toc_window_display": false
  },
  "varInspector": {
   "cols": {
    "lenName": 16,
    "lenType": 16,
    "lenVar": 40
   },
   "kernels_config": {
    "python": {
     "delete_cmd_postfix": "",
     "delete_cmd_prefix": "del ",
     "library": "var_list.py",
     "varRefreshCmd": "print(var_dic_list())"
    },
    "r": {
     "delete_cmd_postfix": ") ",
     "delete_cmd_prefix": "rm(",
     "library": "var_list.r",
     "varRefreshCmd": "cat(var_dic_list()) "
    }
   },
   "types_to_exclude": [
    "module",
    "function",
    "builtin_function_or_method",
    "instance",
    "_Feature"
   ],
   "window_display": false
  }
 },
 "nbformat": 4,
 "nbformat_minor": 2
}
